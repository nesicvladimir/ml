{
 "cells": [
  {
   "cell_type": "code",
   "execution_count": 28,
   "metadata": {},
   "outputs": [],
   "source": [
    "import io\n",
    "import openpyxl\n",
    "import numpy as np\n",
    "import pandas as pd\n",
    "import matplotlib.pyplot as plt\n",
    "import seaborn as sns\n",
    "from sklearn.cluster import KMeans, AgglomerativeClustering, AffinityPropagation\n",
    "from sklearn.preprocessing import StandardScaler"
   ]
  },
  {
   "cell_type": "code",
   "execution_count": 29,
   "metadata": {},
   "outputs": [
    {
     "data": {
      "text/html": [
       "<div>\n",
       "<style scoped>\n",
       "    .dataframe tbody tr th:only-of-type {\n",
       "        vertical-align: middle;\n",
       "    }\n",
       "\n",
       "    .dataframe tbody tr th {\n",
       "        vertical-align: top;\n",
       "    }\n",
       "\n",
       "    .dataframe thead th {\n",
       "        text-align: right;\n",
       "    }\n",
       "</style>\n",
       "<table border=\"1\" class=\"dataframe\">\n",
       "  <thead>\n",
       "    <tr style=\"text-align: right;\">\n",
       "      <th></th>\n",
       "      <th>budget</th>\n",
       "      <th>company</th>\n",
       "      <th>country</th>\n",
       "      <th>director</th>\n",
       "      <th>genre</th>\n",
       "      <th>gross</th>\n",
       "      <th>name</th>\n",
       "      <th>rating</th>\n",
       "      <th>released</th>\n",
       "      <th>runtime</th>\n",
       "      <th>score</th>\n",
       "      <th>star</th>\n",
       "      <th>votes</th>\n",
       "      <th>writer</th>\n",
       "      <th>year</th>\n",
       "    </tr>\n",
       "  </thead>\n",
       "  <tbody>\n",
       "    <tr>\n",
       "      <th>0</th>\n",
       "      <td>8000000.0</td>\n",
       "      <td>Columbia Pictures Corporation</td>\n",
       "      <td>USA</td>\n",
       "      <td>Rob Reiner</td>\n",
       "      <td>Adventure</td>\n",
       "      <td>52287414.0</td>\n",
       "      <td>Stand by Me</td>\n",
       "      <td>R</td>\n",
       "      <td>1986-08-22</td>\n",
       "      <td>89</td>\n",
       "      <td>8.1</td>\n",
       "      <td>Wil Wheaton</td>\n",
       "      <td>299174</td>\n",
       "      <td>Stephen King</td>\n",
       "      <td>1986</td>\n",
       "    </tr>\n",
       "    <tr>\n",
       "      <th>1</th>\n",
       "      <td>6000000.0</td>\n",
       "      <td>Paramount Pictures</td>\n",
       "      <td>USA</td>\n",
       "      <td>John Hughes</td>\n",
       "      <td>Comedy</td>\n",
       "      <td>70136369.0</td>\n",
       "      <td>Ferris Bueller's Day Off</td>\n",
       "      <td>PG-13</td>\n",
       "      <td>1986-06-11</td>\n",
       "      <td>103</td>\n",
       "      <td>7.8</td>\n",
       "      <td>Matthew Broderick</td>\n",
       "      <td>264740</td>\n",
       "      <td>John Hughes</td>\n",
       "      <td>1986</td>\n",
       "    </tr>\n",
       "    <tr>\n",
       "      <th>2</th>\n",
       "      <td>15000000.0</td>\n",
       "      <td>Paramount Pictures</td>\n",
       "      <td>USA</td>\n",
       "      <td>Tony Scott</td>\n",
       "      <td>Action</td>\n",
       "      <td>179800601.0</td>\n",
       "      <td>Top Gun</td>\n",
       "      <td>PG</td>\n",
       "      <td>1986-05-16</td>\n",
       "      <td>110</td>\n",
       "      <td>6.9</td>\n",
       "      <td>Tom Cruise</td>\n",
       "      <td>236909</td>\n",
       "      <td>Jim Cash</td>\n",
       "      <td>1986</td>\n",
       "    </tr>\n",
       "    <tr>\n",
       "      <th>3</th>\n",
       "      <td>18500000.0</td>\n",
       "      <td>Twentieth Century Fox Film Corporation</td>\n",
       "      <td>USA</td>\n",
       "      <td>James Cameron</td>\n",
       "      <td>Action</td>\n",
       "      <td>85160248.0</td>\n",
       "      <td>Aliens</td>\n",
       "      <td>R</td>\n",
       "      <td>1986-07-18</td>\n",
       "      <td>137</td>\n",
       "      <td>8.4</td>\n",
       "      <td>Sigourney Weaver</td>\n",
       "      <td>540152</td>\n",
       "      <td>James Cameron</td>\n",
       "      <td>1986</td>\n",
       "    </tr>\n",
       "    <tr>\n",
       "      <th>4</th>\n",
       "      <td>9000000.0</td>\n",
       "      <td>Walt Disney Pictures</td>\n",
       "      <td>USA</td>\n",
       "      <td>Randal Kleiser</td>\n",
       "      <td>Adventure</td>\n",
       "      <td>18564613.0</td>\n",
       "      <td>Flight of the Navigator</td>\n",
       "      <td>PG</td>\n",
       "      <td>1986-08-01</td>\n",
       "      <td>90</td>\n",
       "      <td>6.9</td>\n",
       "      <td>Joey Cramer</td>\n",
       "      <td>36636</td>\n",
       "      <td>Mark H. Baker</td>\n",
       "      <td>1986</td>\n",
       "    </tr>\n",
       "  </tbody>\n",
       "</table>\n",
       "</div>"
      ],
      "text/plain": [
       "       budget                                 company country        director  \\\n",
       "0   8000000.0           Columbia Pictures Corporation     USA      Rob Reiner   \n",
       "1   6000000.0                      Paramount Pictures     USA     John Hughes   \n",
       "2  15000000.0                      Paramount Pictures     USA      Tony Scott   \n",
       "3  18500000.0  Twentieth Century Fox Film Corporation     USA   James Cameron   \n",
       "4   9000000.0                    Walt Disney Pictures     USA  Randal Kleiser   \n",
       "\n",
       "       genre        gross                      name rating    released  \\\n",
       "0  Adventure   52287414.0               Stand by Me      R  1986-08-22   \n",
       "1     Comedy   70136369.0  Ferris Bueller's Day Off  PG-13  1986-06-11   \n",
       "2     Action  179800601.0                   Top Gun     PG  1986-05-16   \n",
       "3     Action   85160248.0                    Aliens      R  1986-07-18   \n",
       "4  Adventure   18564613.0   Flight of the Navigator     PG  1986-08-01   \n",
       "\n",
       "   runtime  score               star   votes         writer  year  \n",
       "0       89    8.1        Wil Wheaton  299174   Stephen King  1986  \n",
       "1      103    7.8  Matthew Broderick  264740    John Hughes  1986  \n",
       "2      110    6.9         Tom Cruise  236909       Jim Cash  1986  \n",
       "3      137    8.4   Sigourney Weaver  540152  James Cameron  1986  \n",
       "4       90    6.9        Joey Cramer   36636  Mark H. Baker  1986  "
      ]
     },
     "execution_count": 29,
     "metadata": {},
     "output_type": "execute_result"
    }
   ],
   "source": [
    "ds = pd.read_csv('movies.csv', encoding='latin1', sep=\",\")\n",
    "ds.head()"
   ]
  },
  {
   "cell_type": "code",
   "execution_count": 30,
   "metadata": {},
   "outputs": [
    {
     "name": "stdout",
     "output_type": "stream",
     "text": [
      "<class 'pandas.core.frame.DataFrame'>\n",
      "RangeIndex: 6820 entries, 0 to 6819\n",
      "Data columns (total 15 columns):\n",
      " #   Column    Non-Null Count  Dtype  \n",
      "---  ------    --------------  -----  \n",
      " 0   budget    6820 non-null   float64\n",
      " 1   company   6820 non-null   object \n",
      " 2   country   6820 non-null   object \n",
      " 3   director  6820 non-null   object \n",
      " 4   genre     6820 non-null   object \n",
      " 5   gross     6820 non-null   float64\n",
      " 6   name      6820 non-null   object \n",
      " 7   rating    6820 non-null   object \n",
      " 8   released  6820 non-null   object \n",
      " 9   runtime   6820 non-null   int64  \n",
      " 10  score     6820 non-null   float64\n",
      " 11  star      6820 non-null   object \n",
      " 12  votes     6820 non-null   int64  \n",
      " 13  writer    6820 non-null   object \n",
      " 14  year      6820 non-null   int64  \n",
      "dtypes: float64(3), int64(3), object(9)\n",
      "memory usage: 799.3+ KB\n"
     ]
    },
    {
     "data": {
      "text/plain": [
       "budget      2182\n",
       "company        0\n",
       "country        0\n",
       "director       0\n",
       "genre          0\n",
       "gross          0\n",
       "name           0\n",
       "rating         0\n",
       "released       0\n",
       "runtime        0\n",
       "score          0\n",
       "star           0\n",
       "votes          0\n",
       "writer         0\n",
       "year           0\n",
       "dtype: int64"
      ]
     },
     "execution_count": 30,
     "metadata": {},
     "output_type": "execute_result"
    }
   ],
   "source": [
    "ds.info(verbose=True, null_counts=True)\n",
    "(ds==0).sum(axis=0)"
   ]
  },
  {
   "cell_type": "code",
   "execution_count": 31,
   "metadata": {},
   "outputs": [
    {
     "data": {
      "text/plain": [
       "budget      float64\n",
       "company      object\n",
       "country      object\n",
       "director     object\n",
       "genre        object\n",
       "gross       float64\n",
       "name         object\n",
       "rating       object\n",
       "released     object\n",
       "runtime       int64\n",
       "score       float64\n",
       "star         object\n",
       "votes         int64\n",
       "writer       object\n",
       "year          int64\n",
       "dtype: object"
      ]
     },
     "execution_count": 31,
     "metadata": {},
     "output_type": "execute_result"
    }
   ],
   "source": [
    "ds.describe(include=\"all\")\n",
    "ds.dtypes"
   ]
  },
  {
   "cell_type": "code",
   "execution_count": 32,
   "metadata": {},
   "outputs": [
    {
     "data": {
      "text/plain": [
       "<AxesSubplot:>"
      ]
     },
     "execution_count": 32,
     "metadata": {},
     "output_type": "execute_result"
    },
    {
     "data": {
      "image/png": "[encoded data removed]",
      "text/plain": [
       "<Figure size 432x288 with 2 Axes>"
      ]
     },
     "metadata": {
      "needs_background": "light"
     },
     "output_type": "display_data"
    }
   ],
   "source": [
    "ds_corr = ds[[\"budget\", \"gross\", \"runtime\", \"score\", \"votes\", \"year\"]]\n",
    "cor = ds_corr.corr() \n",
    "sns.heatmap(cor, square = True) "
   ]
  },
  {
   "cell_type": "code",
   "execution_count": 33,
   "metadata": {},
   "outputs": [
    {
     "name": "stdout",
     "output_type": "stream",
     "text": [
      "0        8000000.0\n",
      "1        6000000.0\n",
      "2       15000000.0\n",
      "3       18500000.0\n",
      "4        9000000.0\n",
      "           ...    \n",
      "6815           NaN\n",
      "6816           NaN\n",
      "6817     3500000.0\n",
      "6818           NaN\n",
      "6819           NaN\n",
      "Name: budget, Length: 6820, dtype: float64\n",
      "0       8.000000e+06\n",
      "1       6.000000e+06\n",
      "2       1.500000e+07\n",
      "3       1.850000e+07\n",
      "4       9.000000e+06\n",
      "            ...     \n",
      "6815    3.485975e+06\n",
      "6816    2.081680e+04\n",
      "6817    3.500000e+06\n",
      "6818    1.906519e+04\n",
      "6819    2.770656e+04\n",
      "Name: budget, Length: 6820, dtype: float64\n"
     ]
    },
    {
     "data": {
      "text/plain": [
       "budget                   float64\n",
       "gross                    float64\n",
       "runtime                    int64\n",
       "score                    float64\n",
       "year                       int64\n",
       "gross_to_budget_ratio    float64\n",
       "dtype: object"
      ]
     },
     "execution_count": 33,
     "metadata": {},
     "output_type": "execute_result"
    }
   ],
   "source": [
    "ds[\"budget\"].replace(0, np.nan, inplace=True)\n",
    "print(ds[\"budget\"])\n",
    "ds[\"budget\"].fillna(ds[\"budget\"].sum() / ds[\"gross\"].sum() * ds[\"gross\"], inplace=True)\n",
    "\n",
    "print(ds[\"budget\"])\n",
    "\n",
    "ds =ds[~ds[\"rating\"].isin([\"NOT RATED\", \"UNRATED\", \"Not specified\"])]\n",
    "\n",
    "ds[\"gross_to_budget_ratio\"] = ds[\"gross\"] / ds[\"budget\"] #feature engineering\n",
    "\n",
    "\n",
    "# ds = ds[[\"budget\", \"country\", \"genre\", \"gross\", \"rating\", \"runtime\", \"score\", \"year\", \"gross_to_budget_ratio\"]] #keeping only the most relevant features\n",
    "ds = ds[[\"budget\", \"gross\", \"runtime\", \"score\", \"year\", \"gross_to_budget_ratio\"]] \n",
    "\n",
    "# ds = pd.concat([ds, pd.get_dummies(ds[\"genre\"])], axis=1) #genre dummy coding\n",
    "# ds = pd.concat([ds, pd.get_dummies(ds[\"rating\"])], axis=1) #rating dummy coding\n",
    "\n",
    "ds.dtypes"
   ]
  },
  {
   "cell_type": "code",
   "execution_count": 34,
   "metadata": {},
   "outputs": [
    {
     "data": {
      "text/plain": [
       "array([[-0.523655  ,  0.29175287, -0.98842565,  1.75132513, -1.66830247,\n",
       "         0.03372907],\n",
       "       [-0.57782106,  0.59373235, -0.19246768,  1.45157931, -1.66830247,\n",
       "         0.08850917],\n",
       "       [-0.33407378,  2.44909859,  0.20551131,  0.55234183, -1.66830247,\n",
       "         0.09166952],\n",
       "       ...,\n",
       "       [-0.64552864, -0.52900968, -1.72752948,  0.15268073,  1.68712695,\n",
       "        -0.02428128],\n",
       "       [-0.7398029 , -0.59243787, -1.72752948, -0.1470651 ,  1.68712695,\n",
       "        -0.02126058],\n",
       "       [-0.73956887, -0.59223864,  0.77405271,  0.35251128,  1.68712695,\n",
       "        -0.02126058]])"
      ]
     },
     "execution_count": 34,
     "metadata": {},
     "output_type": "execute_result"
    }
   ],
   "source": [
    "ds1 = ds[[\"budget\", \"gross\", \"runtime\", \"score\", \"year\"]]\n",
    "ss = StandardScaler()\n",
    "ss.fit_transform(ds)"
   ]
  },
  {
   "cell_type": "code",
   "execution_count": 35,
   "metadata": {},
   "outputs": [],
   "source": [
    "def doKmeans(X, nclust=2):\n",
    "    model = KMeans(nclust)\n",
    "    model.fit(X)\n",
    "    clust_labels = model.predict(X)\n",
    "    cent = model.cluster_centers_\n",
    "    return (clust_labels, cent)\n",
    "\n",
    "clust_labels, cent = doKmeans(ds, 2)\n",
    "kmeans = pd.DataFrame(clust_labels)\n",
    "ds.insert((ds.shape[1]),'kmeans',kmeans)"
   ]
  },
  {
   "cell_type": "code",
   "execution_count": 36,
   "metadata": {},
   "outputs": [
    {
     "data": {
      "text/plain": [
       "<matplotlib.colorbar.Colorbar at 0x7fb2bce55390>"
      ]
     },
     "execution_count": 36,
     "metadata": {},
     "output_type": "execute_result"
    },
    {
     "data": {
      "image/png": "[encoded data removed]",
      "text/plain": [
       "<Figure size 432x288 with 2 Axes>"
      ]
     },
     "metadata": {
      "needs_background": "light"
     },
     "output_type": "display_data"
    }
   ],
   "source": [
    "fig = plt.figure()\n",
    "ax = fig.add_subplot(111)\n",
    "scatter = ax.scatter(ds['budget'],ds['gross'],\n",
    "                     c=kmeans[0],s=50)\n",
    "ax.set_title('K-Means Clustering')\n",
    "ax.set_xlabel('budget')\n",
    "ax.set_ylabel('rating')\n",
    "plt.colorbar(scatter)"
   ]
  }
 ],
 "metadata": {
  "kernelspec": {
   "display_name": "Python 3",
   "language": "python",
   "name": "python3"
  },
  "language_info": {
   "codemirror_mode": {
    "name": "ipython",
    "version": 3
   },
   "file_extension": ".py",
   "mimetype": "text/x-python",
   "name": "python",
   "nbconvert_exporter": "python",
   "pygments_lexer": "ipython3",
   "version": "3.6.9"
  }
 },
 "nbformat": 4,
 "nbformat_minor": 4
}
