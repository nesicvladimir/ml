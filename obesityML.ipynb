{
 "cells": [
  {
   "cell_type": "code",
   "execution_count": 81,
   "metadata": {},
   "outputs": [
    {
     "name": "stdout",
     "output_type": "stream",
     "text": [
      "      Gender        Age    Height      Weight family_history_with_overweight  \\\n",
      "0     Female  21.000000  1.620000   64.000000                            yes   \n",
      "1     Female  21.000000  1.520000   56.000000                            yes   \n",
      "2       Male  23.000000  1.800000   77.000000                            yes   \n",
      "3       Male  27.000000  1.800000   87.000000                             no   \n",
      "4       Male  22.000000  1.780000   89.800000                             no   \n",
      "...      ...        ...       ...         ...                            ...   \n",
      "2106  Female  20.976842  1.710730  131.408528                            yes   \n",
      "2107  Female  21.982942  1.748584  133.742943                            yes   \n",
      "2108  Female  22.524036  1.752206  133.689352                            yes   \n",
      "2109  Female  24.361936  1.739450  133.346641                            yes   \n",
      "2110  Female  23.664709  1.738836  133.472641                            yes   \n",
      "\n",
      "     FAVC  FCVC  NCP       CAEC SMOKE      CH2O  SCC       FAF       TUE  \\\n",
      "0      no   2.0  3.0  Sometimes    no  2.000000   no  0.000000  1.000000   \n",
      "1      no   3.0  3.0  Sometimes   yes  3.000000  yes  3.000000  0.000000   \n",
      "2      no   2.0  3.0  Sometimes    no  2.000000   no  2.000000  1.000000   \n",
      "3      no   3.0  3.0  Sometimes    no  2.000000   no  2.000000  0.000000   \n",
      "4      no   2.0  1.0  Sometimes    no  2.000000   no  0.000000  0.000000   \n",
      "...   ...   ...  ...        ...   ...       ...  ...       ...       ...   \n",
      "2106  yes   3.0  3.0  Sometimes    no  1.728139   no  1.676269  0.906247   \n",
      "2107  yes   3.0  3.0  Sometimes    no  2.005130   no  1.341390  0.599270   \n",
      "2108  yes   3.0  3.0  Sometimes    no  2.054193   no  1.414209  0.646288   \n",
      "2109  yes   3.0  3.0  Sometimes    no  2.852339   no  1.139107  0.586035   \n",
      "2110  yes   3.0  3.0  Sometimes    no  2.863513   no  1.026452  0.714137   \n",
      "\n",
      "            CALC                 MTRANS           NObeyesdad  \n",
      "0             no  Public_Transportation        Normal_Weight  \n",
      "1      Sometimes  Public_Transportation        Normal_Weight  \n",
      "2     Frequently  Public_Transportation        Normal_Weight  \n",
      "3     Frequently                Walking   Overweight_Level_I  \n",
      "4      Sometimes  Public_Transportation  Overweight_Level_II  \n",
      "...          ...                    ...                  ...  \n",
      "2106   Sometimes  Public_Transportation     Obesity_Type_III  \n",
      "2107   Sometimes  Public_Transportation     Obesity_Type_III  \n",
      "2108   Sometimes  Public_Transportation     Obesity_Type_III  \n",
      "2109   Sometimes  Public_Transportation     Obesity_Type_III  \n",
      "2110   Sometimes  Public_Transportation     Obesity_Type_III  \n",
      "\n",
      "[2111 rows x 17 columns]\n"
     ]
    }
   ],
   "source": [
    "import pandas as pd\n",
    "from sklearn import preprocessing, metrics, svm, tree\n",
    "from sklearn.model_selection import train_test_split\n",
    "from sklearn.naive_bayes import GaussianNB\n",
    "from sklearn.neighbors import NearestCentroid\n",
    "\n",
    "le = preprocessing.LabelEncoder()\n",
    "gnb = GaussianNB()\n",
    "svm_ovo = svm.SVC(decision_function_shape='ovo')\n",
    "svm_ovr = svm.SVC(decision_function_shape='ovr')\n",
    "svm_lin = svm.LinearSVC(max_iter = 5000)\n",
    "nc = NearestCentroid()\n",
    "dt = tree.DecisionTreeClassifier()\n",
    "\n",
    "dataset = pd.read_csv('ObesityDataSet_raw_and_data_sinthetic.csv')\n",
    "\n",
    "print(dataset)"
   ]
  },
  {
   "cell_type": "code",
   "execution_count": 72,
   "metadata": {},
   "outputs": [
    {
     "name": "stdout",
     "output_type": "stream",
     "text": [
      "      Gender       Age  family_history_with_overweight  FAVC  FCVC  NCP  CAEC  \\\n",
      "0          0  0.148936                               1     0   2.0  3.0     2   \n",
      "1          0  0.148936                               1     0   3.0  3.0     2   \n",
      "2          1  0.191489                               1     0   2.0  3.0     2   \n",
      "3          1  0.276596                               0     0   3.0  3.0     2   \n",
      "4          1  0.170213                               0     0   2.0  1.0     2   \n",
      "...      ...       ...                             ...   ...   ...  ...   ...   \n",
      "2106       0  0.148443                               1     1   3.0  3.0     2   \n",
      "2107       0  0.169850                               1     1   3.0  3.0     2   \n",
      "2108       0  0.181362                               1     1   3.0  3.0     2   \n",
      "2109       0  0.220467                               1     1   3.0  3.0     2   \n",
      "2110       0  0.205632                               1     1   3.0  3.0     2   \n",
      "\n",
      "      SMOKE      CH2O  SCC       FAF       TUE  CALC  MTRANS  \n",
      "0         0  2.000000    0  0.000000  1.000000     3       3  \n",
      "1         1  3.000000    1  3.000000  0.000000     2       3  \n",
      "2         0  2.000000    0  2.000000  1.000000     1       3  \n",
      "3         0  2.000000    0  2.000000  0.000000     1       4  \n",
      "4         0  2.000000    0  0.000000  0.000000     2       3  \n",
      "...     ...       ...  ...       ...       ...   ...     ...  \n",
      "2106      0  1.728139    0  1.676269  0.906247     2       3  \n",
      "2107      0  2.005130    0  1.341390  0.599270     2       3  \n",
      "2108      0  2.054193    0  1.414209  0.646288     2       3  \n",
      "2109      0  2.852339    0  1.139107  0.586035     2       3  \n",
      "2110      0  2.863513    0  1.026452  0.714137     2       3  \n",
      "\n",
      "[2111 rows x 14 columns]\n"
     ]
    }
   ],
   "source": [
    "dataset[\"SCC\"] = le.fit_transform(dataset[\"SCC\"])\n",
    "dataset[\"SMOKE\"] = le.fit_transform(dataset[\"SMOKE\"])\n",
    "dataset[\"Gender\"] = le.fit_transform(dataset[\"Gender\"]) \n",
    "dataset[\"family_history_with_overweight\"] = le.fit_transform(dataset[\"family_history_with_overweight\"])\n",
    "dataset[\"FAVC\"] = le.fit_transform(dataset[\"FAVC\"])\n",
    "dataset[\"NObeyesdad\"] = le.fit_transform(dataset[\"NObeyesdad\"])\n",
    "dataset[\"CAEC\"] = le.fit_transform(dataset[\"CAEC\"])\n",
    "dataset[\"CALC\"] = le.fit_transform(dataset[\"CALC\"])\n",
    "dataset[\"MTRANS\"] = le.fit_transform(dataset[\"MTRANS\"])\n",
    "\n",
    "minVal = min(dataset[\"Age\"]);\n",
    "maxVal = max(dataset[\"Age\"]);\n",
    "\n",
    "dataset[\"Age\"] = (dataset[\"Age\"] - minVal) / ( maxVal - minVal )\n",
    "\n",
    "target = dataset['NObeyesdad']\n",
    "dataset = dataset.drop(['Height', 'Weight', 'NObeyesdad'], axis = 1)\n",
    "X_train, X_test, y_train, y_test = train_test_split(dataset,target, test_size=0.2,random_state=104) # 80% training and 20% test\n",
    "\n",
    "print(dataset)\n"
   ]
  },
  {
   "cell_type": "code",
   "execution_count": 73,
   "metadata": {},
   "outputs": [
    {
     "name": "stdout",
     "output_type": "stream",
     "text": [
      "Accuracy gnb: 0.5933806146572104\n"
     ]
    }
   ],
   "source": [
    "gnb.fit(X_train, y_train) \n",
    "\n",
    "y_pred = gnb.predict(X_test)\n",
    "\n",
    "print(\"Accuracy gnb:\",metrics.accuracy_score(y_test, y_pred))"
   ]
  },
  {
   "cell_type": "code",
   "execution_count": 74,
   "metadata": {},
   "outputs": [
    {
     "name": "stdout",
     "output_type": "stream",
     "text": [
      "Accuracy svm_ovo: 0.6903073286052009\n"
     ]
    }
   ],
   "source": [
    "svm_ovo.fit(X_train, y_train)\n",
    "\n",
    "y_pred = svm_ovo.predict(X_test)\n",
    "\n",
    "print(\"Accuracy svm_ovo:\",metrics.accuracy_score(y_test, y_pred))"
   ]
  },
  {
   "cell_type": "code",
   "execution_count": 75,
   "metadata": {},
   "outputs": [
    {
     "name": "stdout",
     "output_type": "stream",
     "text": [
      "Accuracy svm_ovr: 0.6903073286052009\n"
     ]
    }
   ],
   "source": [
    "svm_ovr.fit(X_train, y_train)\n",
    "\n",
    "y_pred = svm_ovr.predict(X_test)\n",
    "\n",
    "print(\"Accuracy svm_ovr:\",metrics.accuracy_score(y_test, y_pred))"
   ]
  },
  {
   "cell_type": "code",
   "execution_count": 76,
   "metadata": {},
   "outputs": [
    {
     "name": "stdout",
     "output_type": "stream",
     "text": [
      "Accuracy svm_lin: 0.6099290780141844\n"
     ]
    }
   ],
   "source": [
    "svm_lin.fit(X_train, y_train)\n",
    "\n",
    "y_pred = svm_lin.predict(X_test)\n",
    "\n",
    "print(\"Accuracy svm_lin:\",metrics.accuracy_score(y_test, y_pred))"
   ]
  },
  {
   "cell_type": "code",
   "execution_count": 80,
   "metadata": {},
   "outputs": [
    {
     "name": "stdout",
     "output_type": "stream",
     "text": [
      "Accuracy nc: 0.41843971631205673\n"
     ]
    }
   ],
   "source": [
    "nc.fit(X_train, y_train)\n",
    "\n",
    "y_pred = nc.predict(X_test)\n",
    "\n",
    "print(\"Accuracy nc:\",metrics.accuracy_score(y_test, y_pred))"
   ]
  },
  {
   "cell_type": "code",
   "execution_count": 82,
   "metadata": {},
   "outputs": [
    {
     "name": "stdout",
     "output_type": "stream",
     "text": [
      "Accuracy dt: 0.8014184397163121\n"
     ]
    }
   ],
   "source": [
    "dt.fit(X_train, y_train)\n",
    "\n",
    "y_pred = dt.predict(X_test)\n",
    "\n",
    "print(\"Accuracy dt:\",metrics.accuracy_score(y_test, y_pred))"
   ]
  }
 ],
 "metadata": {
  "kernelspec": {
   "display_name": "Python 3",
   "language": "python",
   "name": "python3"
  },
  "language_info": {
   "codemirror_mode": {
    "name": "ipython",
    "version": 3
   },
   "file_extension": ".py",
   "mimetype": "text/x-python",
   "name": "python",
   "nbconvert_exporter": "python",
   "pygments_lexer": "ipython3",
   "version": "3.6.9"
  }
 },
 "nbformat": 4,
 "nbformat_minor": 4
}
