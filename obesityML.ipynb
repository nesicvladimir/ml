{
 "cells": [
  {
   "cell_type": "code",
   "execution_count": 83,
   "metadata": {},
   "outputs": [
    {
     "name": "stdout",
     "output_type": "stream",
     "text": [
      "      Gender        Age    Height      Weight family_history_with_overweight  \\\n",
      "0     Female  21.000000  1.620000   64.000000                            yes   \n",
      "1     Female  21.000000  1.520000   56.000000                            yes   \n",
      "2       Male  23.000000  1.800000   77.000000                            yes   \n",
      "3       Male  27.000000  1.800000   87.000000                             no   \n",
      "4       Male  22.000000  1.780000   89.800000                             no   \n",
      "...      ...        ...       ...         ...                            ...   \n",
      "2106  Female  20.976842  1.710730  131.408528                            yes   \n",
      "2107  Female  21.982942  1.748584  133.742943                            yes   \n",
      "2108  Female  22.524036  1.752206  133.689352                            yes   \n",
      "2109  Female  24.361936  1.739450  133.346641                            yes   \n",
      "2110  Female  23.664709  1.738836  133.472641                            yes   \n",
      "\n",
      "     FAVC  FCVC  NCP       CAEC SMOKE      CH2O  SCC       FAF       TUE  \\\n",
      "0      no   2.0  3.0  Sometimes    no  2.000000   no  0.000000  1.000000   \n",
      "1      no   3.0  3.0  Sometimes   yes  3.000000  yes  3.000000  0.000000   \n",
      "2      no   2.0  3.0  Sometimes    no  2.000000   no  2.000000  1.000000   \n",
      "3      no   3.0  3.0  Sometimes    no  2.000000   no  2.000000  0.000000   \n",
      "4      no   2.0  1.0  Sometimes    no  2.000000   no  0.000000  0.000000   \n",
      "...   ...   ...  ...        ...   ...       ...  ...       ...       ...   \n",
      "2106  yes   3.0  3.0  Sometimes    no  1.728139   no  1.676269  0.906247   \n",
      "2107  yes   3.0  3.0  Sometimes    no  2.005130   no  1.341390  0.599270   \n",
      "2108  yes   3.0  3.0  Sometimes    no  2.054193   no  1.414209  0.646288   \n",
      "2109  yes   3.0  3.0  Sometimes    no  2.852339   no  1.139107  0.586035   \n",
      "2110  yes   3.0  3.0  Sometimes    no  2.863513   no  1.026452  0.714137   \n",
      "\n",
      "            CALC                 MTRANS           NObeyesdad  \n",
      "0             no  Public_Transportation        Normal_Weight  \n",
      "1      Sometimes  Public_Transportation        Normal_Weight  \n",
      "2     Frequently  Public_Transportation        Normal_Weight  \n",
      "3     Frequently                Walking   Overweight_Level_I  \n",
      "4      Sometimes  Public_Transportation  Overweight_Level_II  \n",
      "...          ...                    ...                  ...  \n",
      "2106   Sometimes  Public_Transportation     Obesity_Type_III  \n",
      "2107   Sometimes  Public_Transportation     Obesity_Type_III  \n",
      "2108   Sometimes  Public_Transportation     Obesity_Type_III  \n",
      "2109   Sometimes  Public_Transportation     Obesity_Type_III  \n",
      "2110   Sometimes  Public_Transportation     Obesity_Type_III  \n",
      "\n",
      "[2111 rows x 17 columns]\n"
     ]
    }
   ],
   "source": [
    "import pandas as pd\n",
    "from sklearn import preprocessing, metrics, svm, tree\n",
    "from sklearn.model_selection import train_test_split\n",
    "from sklearn.naive_bayes import GaussianNB\n",
    "from sklearn.neighbors import NearestCentroid\n",
    "from sklearn.metrics import confusion_matrix, accuracy_score, roc_curve, auc\n",
    "from sklearn.multiclass import OneVsRestClassifier\n",
    "from sklearn.linear_model import LogisticRegression\n",
    "from sklearn.ensemble import RandomForestClassifier\n",
    "import matplotlib.pyplot as plt\n",
    "import matplotlib\n",
    "import seaborn as sns\n",
    "\n",
    "le = preprocessing.LabelEncoder()\n",
    "gnb = GaussianNB()\n",
    "svm_ovo = svm.SVC(decision_function_shape='ovo')\n",
    "svm_ovr = svm.SVC(decision_function_shape='ovr')\n",
    "svm_lin = svm.LinearSVC(max_iter = 5000)\n",
    "nc = NearestCentroid()\n",
    "dt = tree.DecisionTreeClassifier()\n",
    "rf = RandomForestClassifier(random_state=2021)\n",
    "rf_bin = RandomForestClassifier(random_state=2021)\n",
    "lr = LogisticRegression(max_iter=10000, solver='lbfgs')\n",
    "\n",
    "dataset = pd.read_csv('ObesityDataSet_raw_and_data_sinthetic.csv')\n",
    "\n",
    "print(dataset)"
   ]
  },
  {
   "cell_type": "code",
   "execution_count": 84,
   "metadata": {},
   "outputs": [
    {
     "data": {
      "image/png": "[encoded data removed]",
      "text/plain": [
       "<Figure size 432x288 with 1 Axes>"
      ]
     },
     "metadata": {
      "needs_background": "light"
     },
     "output_type": "display_data"
    },
    {
     "name": "stdout",
     "output_type": "stream",
     "text": [
      "      Gender       Age  family_history_with_overweight  FAVC  FCVC  NCP  CAEC  \\\n",
      "0          0  0.148936                               1     0   2.0  3.0     2   \n",
      "1          0  0.148936                               1     0   3.0  3.0     2   \n",
      "2          1  0.191489                               1     0   2.0  3.0     2   \n",
      "3          1  0.276596                               0     0   3.0  3.0     2   \n",
      "4          1  0.170213                               0     0   2.0  1.0     2   \n",
      "...      ...       ...                             ...   ...   ...  ...   ...   \n",
      "2106       0  0.148443                               1     1   3.0  3.0     2   \n",
      "2107       0  0.169850                               1     1   3.0  3.0     2   \n",
      "2108       0  0.181362                               1     1   3.0  3.0     2   \n",
      "2109       0  0.220467                               1     1   3.0  3.0     2   \n",
      "2110       0  0.205632                               1     1   3.0  3.0     2   \n",
      "\n",
      "      SMOKE      CH2O  SCC       FAF       TUE  CALC  MTRANS  \n",
      "0         0  2.000000    0  0.000000  1.000000     3       3  \n",
      "1         1  3.000000    1  3.000000  0.000000     2       3  \n",
      "2         0  2.000000    0  2.000000  1.000000     1       3  \n",
      "3         0  2.000000    0  2.000000  0.000000     1       4  \n",
      "4         0  2.000000    0  0.000000  0.000000     2       3  \n",
      "...     ...       ...  ...       ...       ...   ...     ...  \n",
      "2106      0  1.728139    0  1.676269  0.906247     2       3  \n",
      "2107      0  2.005130    0  1.341390  0.599270     2       3  \n",
      "2108      0  2.054193    0  1.414209  0.646288     2       3  \n",
      "2109      0  2.852339    0  1.139107  0.586035     2       3  \n",
      "2110      0  2.863513    0  1.026452  0.714137     2       3  \n",
      "\n",
      "[2111 rows x 14 columns]\n",
      "Gender                            0.505921\n",
      "Age                               0.219417\n",
      "family_history_with_overweight    0.817622\n",
      "FAVC                              0.883941\n",
      "FCVC                              2.419043\n",
      "NCP                               2.685628\n",
      "CAEC                              1.859308\n",
      "SMOKE                             0.020843\n",
      "CH2O                              2.008011\n",
      "SCC                               0.045476\n",
      "FAF                               1.010298\n",
      "TUE                               0.657866\n",
      "CALC                              2.268593\n",
      "MTRANS                            2.365230\n",
      "dtype: float64\n",
      "Gender                            0.500083\n",
      "Age                               0.135021\n",
      "family_history_with_overweight    0.386247\n",
      "FAVC                              0.320371\n",
      "FCVC                              0.533927\n",
      "NCP                               0.778039\n",
      "CAEC                              0.468543\n",
      "SMOKE                             0.142893\n",
      "CH2O                              0.612953\n",
      "SCC                               0.208395\n",
      "FAF                               0.850592\n",
      "TUE                               0.608927\n",
      "CALC                              0.515498\n",
      "MTRANS                            1.261423\n",
      "dtype: float64\n",
      "   Gender       Age  family_history_with_overweight  FAVC  FCVC  NCP  CAEC  \\\n",
      "0       1  0.085106                               1     1   3.0  3.0     2   \n",
      "\n",
      "   SMOKE  CH2O  SCC  FAF  TUE  CALC  MTRANS  \n",
      "0      0   2.0    0  0.0  0.0     2       3  \n",
      "Gender                           -0.023704\n",
      "Age                               1.529100\n",
      "family_history_with_overweight   -1.646216\n",
      "FAVC                             -2.399125\n",
      "FCVC                             -0.432906\n",
      "NCP                              -1.107097\n",
      "CAEC                             -1.907526\n",
      "SMOKE                             6.712867\n",
      "CH2O                             -0.104912\n",
      "SCC                               4.366270\n",
      "FAF                               0.498490\n",
      "TUE                               0.618502\n",
      "CALC                              0.236481\n",
      "MTRANS                           -1.280169\n",
      "dtype: float64\n"
     ]
    }
   ],
   "source": [
    "#for binary classification\n",
    "weight_map = { 'Normal_Weight':0, 'Overweight_Level_I':0,\n",
    "               'Overweight_Level_II':0, 'Obesity_Type_I':1,\n",
    "               'Obesity_Type_II':1, 'Obesity_Type_III':1, 'Insufficient_Weight':0}\n",
    "dataset['Obese'] = dataset_raw['NObeyesdad'].map(weight_map)\n",
    "sns.countplot(x=\"Obese\",                  \n",
    "                 palette=\"Blues_d\", \n",
    "                 order=dataset['Obese'].value_counts().index,                 \n",
    "                 data=dataset)\n",
    "# show figure & plots\n",
    "plt.tight_layout()\n",
    "plt.show()\n",
    "\n",
    "dataset[\"SCC\"] = le.fit_transform(dataset[\"SCC\"])\n",
    "dataset[\"SMOKE\"] = le.fit_transform(dataset[\"SMOKE\"])\n",
    "dataset[\"Gender\"] = le.fit_transform(dataset[\"Gender\"]) \n",
    "dataset[\"family_history_with_overweight\"] = le.fit_transform(dataset[\"family_history_with_overweight\"])\n",
    "dataset[\"FAVC\"] = le.fit_transform(dataset[\"FAVC\"])\n",
    "dataset[\"NObeyesdad\"] = le.fit_transform(dataset[\"NObeyesdad\"])\n",
    "dataset[\"CAEC\"] = le.fit_transform(dataset[\"CAEC\"])\n",
    "dataset[\"CALC\"] = le.fit_transform(dataset[\"CALC\"])\n",
    "dataset[\"MTRANS\"] = le.fit_transform(dataset[\"MTRANS\"])\n",
    "\n",
    "minVal = min(dataset[\"Age\"]);\n",
    "maxVal = max(dataset[\"Age\"]);\n",
    "\n",
    "dataset[\"Age\"] = (dataset[\"Age\"] - minVal) / ( maxVal - minVal )\n",
    "\n",
    "target = dataset['NObeyesdad']\n",
    "target_bin = dataset['Obese']\n",
    "\n",
    "dataset = dataset.drop(['Height', 'Weight', 'NObeyesdad','Obese'], axis = 1)\n",
    "X_train, X_test, y_train, y_test = train_test_split(dataset,target, test_size=0.2,random_state=104)# 80% training and 20% test\n",
    "X_train_bin, X_test_bin, y_train_bin, y_test_bin = train_test_split(dataset,target_bin, test_size=0.2,random_state=104)# 80% training and 20% test\n",
    "\n",
    "print(dataset)\n",
    "print(dataset.mean())\n",
    "print(dataset.std())\n",
    "print(dataset.mode())\n",
    "print(dataset.skew())\n"
   ]
  },
  {
   "cell_type": "code",
   "execution_count": 86,
   "metadata": {},
   "outputs": [
    {
     "name": "stdout",
     "output_type": "stream",
     "text": [
      "Accuracy RandomForest: 0.8794326241134752\n",
      "Confusion matrix:\n",
      " [[51  4  0  0  0  0  0]\n",
      " [ 2 46  1  0  0  1  1]\n",
      " [ 0  1 60  2  0  1  3]\n",
      " [ 0  2  1 63  0  0  3]\n",
      " [ 0  1  0  0 68  0  0]\n",
      " [ 0  5  4  2  0 46  2]\n",
      " [ 4  3  5  2  0  1 38]]\n"
     ]
    },
    {
     "data": {
      "image/png": "[encoded data removed]",
      "text/plain": [
       "<Figure size 720x360 with 1 Axes>"
      ]
     },
     "metadata": {
      "needs_background": "light"
     },
     "output_type": "display_data"
    }
   ],
   "source": [
    "rf.fit(X_train, y_train) \n",
    "\n",
    "y_pred = rf.predict(X_test)\n",
    "\n",
    "print(\"Accuracy RandomForest:\",accuracy_score(y_test, y_pred))\n",
    "print(\"Confusion matrix:\\n\", confusion_matrix(y_test, y_pred))\n",
    "\n",
    "feature_imp = pd.Series(rf.feature_importances_, index=dataset.columns).sort_values(ascending=False)\n",
    "fig = plt.figure(figsize=(10, 5))\n",
    "\n",
    "# Creating a bar plot\n",
    "sns.barplot(x=feature_imp.index, y=feature_imp)\n",
    "\n",
    "# Add labels to your graph\n",
    "plt.xticks(rotation=45, horizontalalignment='right')\n",
    "plt.title(\"Feature Importance\")\n",
    "plt.tight_layout()\n",
    "plt.show()"
   ]
  },
  {
   "cell_type": "code",
   "execution_count": 95,
   "metadata": {},
   "outputs": [
    {
     "name": "stdout",
     "output_type": "stream",
     "text": [
      "Accuracy RandomForest (binary): 0.9408983451536643\n",
      "Confusion matrix:\n",
      " [[205  13]\n",
      " [ 12 193]]\n"
     ]
    }
   ],
   "source": [
    "rf_bin.fit(X_train_bin, y_train_bin) \n",
    "\n",
    "y_pred_bin = rf_bin.predict(X_test_bin)\n",
    "\n",
    "print(\"Accuracy RandomForest (binary):\",accuracy_score(y_test_bin, y_pred_bin))\n",
    "print(\"Confusion matrix:\\n\", confusion_matrix(y_test_bin, y_pred_bin))"
   ]
  },
  {
   "cell_type": "code",
   "execution_count": 88,
   "metadata": {},
   "outputs": [
    {
     "name": "stdout",
     "output_type": "stream",
     "text": [
      "Accuracy gnb: 0.5933806146572104\n",
      "Confusion matrix:\n",
      " [[39  1  7  8  0  0  0]\n",
      " [31  7  6  2  0  3  2]\n",
      " [ 0  2 42 20  0  1  2]\n",
      " [ 0  1  0 67  0  0  1]\n",
      " [ 1  0  0  0 68  0  0]\n",
      " [ 2  5 19 16  0 17  0]\n",
      " [ 4  3 11 23  0  1 11]]\n"
     ]
    }
   ],
   "source": [
    "gnb.fit(X_train, y_train) \n",
    "\n",
    "y_pred = gnb.predict(X_test)\n",
    "\n",
    "print(\"Accuracy gnb:\",accuracy_score(y_test, y_pred))\n",
    "print(\"Confusion matrix:\\n\", confusion_matrix(y_test, y_pred))"
   ]
  },
  {
   "cell_type": "code",
   "execution_count": 79,
   "metadata": {},
   "outputs": [
    {
     "name": "stdout",
     "output_type": "stream",
     "text": [
      "Accuracy svm_ovo: 0.6903073286052009\n",
      "Confusion matrix:\n",
      " [[47  3  4  1  0  0  0]\n",
      " [15 20  3  1  1 10  1]\n",
      " [ 1  0 44 13  1  2  6]\n",
      " [ 0  2  2 63  0  0  2]\n",
      " [ 0  1  0  0 68  0  0]\n",
      " [ 2  7 17  9  0 24  0]\n",
      " [ 2  4  8 11  1  1 26]]\n"
     ]
    }
   ],
   "source": [
    "svm_ovo.fit(X_train, y_train)\n",
    "\n",
    "y_pred = svm_ovo.predict(X_test)\n",
    "\n",
    "print(\"Accuracy svm_ovo:\",metrics.accuracy_score(y_test, y_pred))\n",
    "print(\"Confusion matrix:\\n\", confusion_matrix(y_test, y_pred))"
   ]
  },
  {
   "cell_type": "code",
   "execution_count": 91,
   "metadata": {},
   "outputs": [
    {
     "name": "stdout",
     "output_type": "stream",
     "text": [
      "Accuracy svm_ovr: 0.6903073286052009\n",
      "Confusion matrix:\n",
      " [[47  3  4  1  0  0  0]\n",
      " [15 20  3  1  1 10  1]\n",
      " [ 1  0 44 13  1  2  6]\n",
      " [ 0  2  2 63  0  0  2]\n",
      " [ 0  1  0  0 68  0  0]\n",
      " [ 2  7 17  9  0 24  0]\n",
      " [ 2  4  8 11  1  1 26]]\n"
     ]
    }
   ],
   "source": [
    "svm_ovr.fit(X_train, y_train)\n",
    "\n",
    "y_pred = svm_ovr.predict(X_test)\n",
    "\n",
    "print(\"Accuracy svm_ovr:\",metrics.accuracy_score(y_test, y_pred))\n",
    "print(\"Confusion matrix:\\n\", confusion_matrix(y_test, y_pred))"
   ]
  },
  {
   "cell_type": "code",
   "execution_count": null,
   "metadata": {},
   "outputs": [],
   "source": [
    "svm_lin.fit(X_train, y_train)\n",
    "\n",
    "y_pred = svm_lin.predict(X_test)\n",
    "\n",
    "print(\"Accuracy svm_lin:\",metrics.accuracy_score(y_test, y_pred))\n",
    "print(\"Confusion matrix:\\n\", confusion_matrix(y_test, y_pred))"
   ]
  },
  {
   "cell_type": "code",
   "execution_count": null,
   "metadata": {},
   "outputs": [],
   "source": [
    "nc.fit(X_train, y_train)\n",
    "\n",
    "y_pred = nc.predict(X_test)\n",
    "\n",
    "print(\"Accuracy nc:\",metrics.accuracy_score(y_test, y_pred))\n",
    "print(\"Confusion matrix:\\n\", confusion_matrix(y_test, y_pred))"
   ]
  },
  {
   "cell_type": "code",
   "execution_count": 93,
   "metadata": {},
   "outputs": [
    {
     "name": "stdout",
     "output_type": "stream",
     "text": [
      "Accuracy dt: 0.7990543735224587\n",
      "Confusion matrix:\n",
      " [[49  3  2  0  0  1  0]\n",
      " [ 5 35  2  1  0  3  5]\n",
      " [ 0  2 55  2  0  2  6]\n",
      " [ 0  1  0 61  0  1  6]\n",
      " [ 0  3  0  0 66  0  0]\n",
      " [ 3  3  8  1  0 41  3]\n",
      " [ 5  7  4  1  0  5 31]]\n"
     ]
    }
   ],
   "source": [
    "dt.fit(X_train, y_train)\n",
    "\n",
    "y_pred = dt.predict(X_test)\n",
    "print(\"Accuracy dt:\",metrics.accuracy_score(y_test, y_pred))\n",
    "print(\"Confusion matrix:\\n\", confusion_matrix(y_test, y_pred))"
   ]
  },
  {
   "cell_type": "code",
   "execution_count": 92,
   "metadata": {},
   "outputs": [
    {
     "name": "stdout",
     "output_type": "stream",
     "text": [
      "Accuracy dt: 0.607565011820331\n",
      "Confusion matrix:\n",
      " [[33 13  3  2  0  4  0]\n",
      " [20 18  3  1  1  6  2]\n",
      " [ 1  0 47 12  0  4  3]\n",
      " [ 0  1 10 56  0  0  2]\n",
      " [ 1  0  0  0 68  0  0]\n",
      " [ 4  5 14 10  0 25  1]\n",
      " [ 2  6 22 11  1  1 10]]\n"
     ]
    }
   ],
   "source": [
    "lr.fit(X_train, y_train)\n",
    "\n",
    "y_pred = lr.predict(X_test)\n",
    "print(\"Accuracy dt:\",metrics.accuracy_score(y_test, y_pred))\n",
    "print(\"Confusion matrix:\\n\", confusion_matrix(y_test, y_pred))"
   ]
  }
 ],
 "metadata": {
  "kernelspec": {
   "display_name": "Python 3",
   "language": "python",
   "name": "python3"
  },
  "language_info": {
   "codemirror_mode": {
    "name": "ipython",
    "version": 3
   },
   "file_extension": ".py",
   "mimetype": "text/x-python",
   "name": "python",
   "nbconvert_exporter": "python",
   "pygments_lexer": "ipython3",
   "version": "3.6.9"
  }
 },
 "nbformat": 4,
 "nbformat_minor": 4
}
