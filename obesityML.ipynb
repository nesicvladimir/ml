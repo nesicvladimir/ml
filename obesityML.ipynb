{
 "cells": [
  {
   "cell_type": "code",
   "execution_count": 79,
   "metadata": {},
   "outputs": [
    {
     "name": "stdout",
     "output_type": "stream",
     "text": [
      "Age       24.312600\n",
      "Height     1.701677\n",
      "Weight    86.586058\n",
      "FCVC       2.419043\n",
      "NCP        2.685628\n",
      "CH2O       2.008011\n",
      "FAF        1.010298\n",
      "TUE        0.657866\n",
      "dtype: float64\n"
     ]
    }
   ],
   "source": [
    "import pandas as pd\n",
    "from sklearn import preprocessing, metrics, svm, tree\n",
    "from sklearn.model_selection import train_test_split\n",
    "from sklearn.naive_bayes import GaussianNB\n",
    "from sklearn.neighbors import NearestCentroid\n",
    "from sklearn.metrics import confusion_matrix, accuracy_score, roc_curve, auc\n",
    "from sklearn.multiclass import OneVsRestClassifier\n",
    "\n",
    "le = preprocessing.LabelEncoder()\n",
    "gnb = GaussianNB()\n",
    "svm_ovo = svm.SVC(decision_function_shape='ovo')\n",
    "svm_ovr = svm.SVC(decision_function_shape='ovr')\n",
    "svm_lin = svm.LinearSVC(max_iter = 5000)\n",
    "nc = NearestCentroid()\n",
    "dt = tree.DecisionTreeClassifier()\n",
    "\n",
    "dataset = pd.read_csv('ObesityDataSet_raw_and_data_sinthetic.csv')\n",
    "\n",
    "print(dataset)"
   ]
  },
  {
   "cell_type": "code",
   "execution_count": 80,
   "metadata": {},
   "outputs": [
    {
     "name": "stdout",
     "output_type": "stream",
     "text": [
      "Gender                            0.505921\n",
      "Age                               0.219417\n",
      "family_history_with_overweight    0.817622\n",
      "FAVC                              0.883941\n",
      "FCVC                              2.419043\n",
      "NCP                               2.685628\n",
      "CAEC                              1.859308\n",
      "SMOKE                             0.020843\n",
      "CH2O                              2.008011\n",
      "SCC                               0.045476\n",
      "FAF                               1.010298\n",
      "TUE                               0.657866\n",
      "CALC                              2.268593\n",
      "MTRANS                            2.365230\n",
      "dtype: float64\n",
      "Gender                            0.500083\n",
      "Age                               0.135021\n",
      "family_history_with_overweight    0.386247\n",
      "FAVC                              0.320371\n",
      "FCVC                              0.533927\n",
      "NCP                               0.778039\n",
      "CAEC                              0.468543\n",
      "SMOKE                             0.142893\n",
      "CH2O                              0.612953\n",
      "SCC                               0.208395\n",
      "FAF                               0.850592\n",
      "TUE                               0.608927\n",
      "CALC                              0.515498\n",
      "MTRANS                            1.261423\n",
      "dtype: float64\n",
      "   Gender       Age  family_history_with_overweight  FAVC  FCVC  NCP  CAEC  \\\n",
      "0       1  0.085106                               1     1   3.0  3.0     2   \n",
      "\n",
      "   SMOKE  CH2O  SCC  FAF  TUE  CALC  MTRANS  \n",
      "0      0   2.0    0  0.0  0.0     2       3  \n",
      "Gender                           -0.023704\n",
      "Age                               1.529100\n",
      "family_history_with_overweight   -1.646216\n",
      "FAVC                             -2.399125\n",
      "FCVC                             -0.432906\n",
      "NCP                              -1.107097\n",
      "CAEC                             -1.907526\n",
      "SMOKE                             6.712867\n",
      "CH2O                             -0.104912\n",
      "SCC                               4.366270\n",
      "FAF                               0.498490\n",
      "TUE                               0.618502\n",
      "CALC                              0.236481\n",
      "MTRANS                           -1.280169\n",
      "dtype: float64\n"
     ]
    }
   ],
   "source": [
    "dataset[\"SCC\"] = le.fit_transform(dataset[\"SCC\"])\n",
    "dataset[\"SMOKE\"] = le.fit_transform(dataset[\"SMOKE\"])\n",
    "dataset[\"Gender\"] = le.fit_transform(dataset[\"Gender\"]) \n",
    "dataset[\"family_history_with_overweight\"] = le.fit_transform(dataset[\"family_history_with_overweight\"])\n",
    "dataset[\"FAVC\"] = le.fit_transform(dataset[\"FAVC\"])\n",
    "dataset[\"NObeyesdad\"] = le.fit_transform(dataset[\"NObeyesdad\"])\n",
    "dataset[\"CAEC\"] = le.fit_transform(dataset[\"CAEC\"])\n",
    "dataset[\"CALC\"] = le.fit_transform(dataset[\"CALC\"])\n",
    "dataset[\"MTRANS\"] = le.fit_transform(dataset[\"MTRANS\"])\n",
    "\n",
    "minVal = min(dataset[\"Age\"]);\n",
    "maxVal = max(dataset[\"Age\"]);\n",
    "\n",
    "dataset[\"Age\"] = (dataset[\"Age\"] - minVal) / ( maxVal - minVal )\n",
    "\n",
    "target = dataset['NObeyesdad']\n",
    "dataset = dataset.drop(['Height', 'Weight', 'NObeyesdad'], axis = 1)\n",
    "X_train, X_test, y_train, y_test = train_test_split(dataset,target, test_size=0.2,random_state=104) # 80% training and 20% test\n",
    "\n",
    "# print(dataset)\n",
    "print(dataset.mean())\n",
    "print(dataset.std())\n",
    "print(dataset.mode())\n",
    "print(dataset.skew())\n"
   ]
  },
  {
   "cell_type": "code",
   "execution_count": 32,
   "metadata": {},
   "outputs": [
    {
     "name": "stdout",
     "output_type": "stream",
     "text": [
      "Accuracy gnb: 0.5933806146572104\n",
      "Confusion matrix:\n",
      " [[39  1  7  8  0  0  0]\n",
      " [31  7  6  2  0  3  2]\n",
      " [ 0  2 42 20  0  1  2]\n",
      " [ 0  1  0 67  0  0  1]\n",
      " [ 1  0  0  0 68  0  0]\n",
      " [ 2  5 19 16  0 17  0]\n",
      " [ 4  3 11 23  0  1 11]]\n"
     ]
    }
   ],
   "source": [
    "gnb.fit(X_train, y_train) \n",
    "\n",
    "y_pred = gnb.predict(X_test)\n",
    "\n",
    "print(\"Accuracy gnb:\",accuracy_score(y_test, y_pred))\n",
    "print(\"Confusion matrix:\\n\", confusion_matrix(y_test, y_pred))"
   ]
  },
  {
   "cell_type": "code",
   "execution_count": 31,
   "metadata": {},
   "outputs": [
    {
     "name": "stdout",
     "output_type": "stream",
     "text": [
      "Accuracy svm_ovo: 0.6903073286052009\n",
      "Confusion matrix:\n",
      " [[47  3  4  1  0  0  0]\n",
      " [15 20  3  1  1 10  1]\n",
      " [ 1  0 44 13  1  2  6]\n",
      " [ 0  2  2 63  0  0  2]\n",
      " [ 0  1  0  0 68  0  0]\n",
      " [ 2  7 17  9  0 24  0]\n",
      " [ 2  4  8 11  1  1 26]]\n"
     ]
    }
   ],
   "source": [
    "svm_ovo.fit(X_train, y_train)\n",
    "\n",
    "y_pred = svm_ovo.predict(X_test)\n",
    "\n",
    "print(\"Accuracy svm_ovo:\",metrics.accuracy_score(y_test, y_pred))\n",
    "print(\"Confusion matrix:\\n\", confusion_matrix(y_test, y_pred))"
   ]
  },
  {
   "cell_type": "code",
   "execution_count": 33,
   "metadata": {},
   "outputs": [
    {
     "name": "stdout",
     "output_type": "stream",
     "text": [
      "Accuracy svm_ovr: 0.6903073286052009\n",
      "Confusion matrix:\n",
      " [[47  3  4  1  0  0  0]\n",
      " [15 20  3  1  1 10  1]\n",
      " [ 1  0 44 13  1  2  6]\n",
      " [ 0  2  2 63  0  0  2]\n",
      " [ 0  1  0  0 68  0  0]\n",
      " [ 2  7 17  9  0 24  0]\n",
      " [ 2  4  8 11  1  1 26]]\n"
     ]
    }
   ],
   "source": [
    "svm_ovr.fit(X_train, y_train)\n",
    "\n",
    "y_pred = svm_ovr.predict(X_test)\n",
    "\n",
    "print(\"Accuracy svm_ovr:\",metrics.accuracy_score(y_test, y_pred))\n",
    "print(\"Confusion matrix:\\n\", confusion_matrix(y_test, y_pred))"
   ]
  },
  {
   "cell_type": "code",
   "execution_count": 34,
   "metadata": {},
   "outputs": [
    {
     "name": "stdout",
     "output_type": "stream",
     "text": [
      "Accuracy svm_lin: 0.6099290780141844\n",
      "Confusion matrix:\n",
      " [[39 11  2  3  0  0  0]\n",
      " [23 14  4  3  3  2  2]\n",
      " [ 2  0 48 12  1  2  2]\n",
      " [ 0  1  6 61  0  0  1]\n",
      " [ 1  0  0  0 68  0  0]\n",
      " [ 4  5 13 15  5 17  0]\n",
      " [ 3  3 18 15  2  1 11]]\n"
     ]
    }
   ],
   "source": [
    "svm_lin.fit(X_train, y_train)\n",
    "\n",
    "y_pred = svm_lin.predict(X_test)\n",
    "\n",
    "print(\"Accuracy svm_lin:\",metrics.accuracy_score(y_test, y_pred))\n",
    "print(\"Confusion matrix:\\n\", confusion_matrix(y_test, y_pred))"
   ]
  },
  {
   "cell_type": "code",
   "execution_count": 63,
   "metadata": {},
   "outputs": [
    {
     "name": "stdout",
     "output_type": "stream",
     "text": [
      "Accuracy nc: 0.41843971631205673\n",
      "Confusion matrix:\n",
      " [[20 14  0 10  6  4  1]\n",
      " [12 18  1  8  4  5  3]\n",
      " [ 9  4 25 15  3  9  2]\n",
      " [ 2 17  0 28  2 15  5]\n",
      " [ 8  1  0  0 60  0  0]\n",
      " [ 2  7  7 11  9 21  2]\n",
      " [ 8  4 11 10  5 10  5]]\n"
     ]
    }
   ],
   "source": [
    "nc.fit(X_train, y_train)\n",
    "\n",
    "y_pred = nc.predict(X_test)\n",
    "\n",
    "print(\"Accuracy nc:\",metrics.accuracy_score(y_test, y_pred))\n",
    "print(\"Confusion matrix:\\n\", confusion_matrix(y_test, y_pred))"
   ]
  },
  {
   "cell_type": "code",
   "execution_count": 84,
   "metadata": {},
   "outputs": [
    {
     "name": "stdout",
     "output_type": "stream",
     "text": [
      "Accuracy dt: 0.7990543735224587\n",
      "Confusion matrix:\n",
      " [[51  2  1  0  0  1  0]\n",
      " [ 6 33  3  1  0  4  4]\n",
      " [ 0  2 54  2  0  3  6]\n",
      " [ 1  1  0 62  0  0  5]\n",
      " [ 0  3  0  0 66  0  0]\n",
      " [ 4  1  6  1  0 43  4]\n",
      " [ 6  5  6  2  0  5 29]]\n"
     ]
    }
   ],
   "source": [
    "dt.fit(X_train, y_train)\n",
    "\n",
    "y_pred = dt.predict(X_test)\n",
    "print(\"Accuracy dt:\",metrics.accuracy_score(y_test, y_pred))\n",
    "print(\"Confusion matrix:\\n\", confusion_matrix(y_test, y_pred))"
   ]
  }
 ],
 "metadata": {
  "kernelspec": {
   "display_name": "Python 3",
   "language": "python",
   "name": "python3"
  },
  "language_info": {
   "codemirror_mode": {
    "name": "ipython",
    "version": 3
   },
   "file_extension": ".py",
   "mimetype": "text/x-python",
   "name": "python",
   "nbconvert_exporter": "python",
   "pygments_lexer": "ipython3",
   "version": "3.6.9"
  }
 },
 "nbformat": 4,
 "nbformat_minor": 4
}
