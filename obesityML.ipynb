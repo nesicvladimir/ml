{
 "cells": [
  {
   "cell_type": "code",
   "execution_count": 71,
   "metadata": {},
   "outputs": [],
   "source": [
    "import pandas as pd\n",
    "from sklearn import preprocessing, metrics, svm, tree\n",
    "from sklearn.model_selection import train_test_split\n",
    "from sklearn.naive_bayes import GaussianNB\n",
    "from sklearn.neighbors import NearestCentroid\n",
    "from sklearn.metrics import confusion_matrix, accuracy_score, roc_curve, auc\n",
    "from sklearn.multiclass import OneVsRestClassifier\n",
    "from sklearn.linear_model import LogisticRegression\n",
    "from sklearn.ensemble import RandomForestClassifier\n",
    "import matplotlib.pyplot as plt\n",
    "import matplotlib\n",
    "import seaborn as sns\n",
    "\n",
    "le = preprocessing.LabelEncoder()\n",
    "gnb = GaussianNB()\n",
    "svm_ovo = svm.SVC(decision_function_shape='ovo')\n",
    "svm_ovr = svm.SVC(decision_function_shape='ovr')\n",
    "svm_lin = svm.LinearSVC(max_iter = 5000)\n",
    "nc = NearestCentroid()\n",
    "dt = tree.DecisionTreeClassifier()\n",
    "rf = RandomForestClassifier(random_state=2021)\n",
    "rf_bin = RandomForestClassifier(random_state=2021)\n",
    "lr = LogisticRegression(max_iter=10000, solver='lbfgs')\n",
    "\n",
    "dataset = pd.read_csv('ObesityDataSet_raw_and_data_sinthetic.csv')\n",
    "\n",
    "#print(dataset)"
   ]
  },
  {
   "cell_type": "code",
   "execution_count": 72,
   "metadata": {},
   "outputs": [
    {
     "data": {
      "image/png": "[encoded data removed]",
      "text/plain": [
       "<Figure size 432x288 with 1 Axes>"
      ]
     },
     "metadata": {
      "needs_background": "light"
     },
     "output_type": "display_data"
    },
    {
     "name": "stdout",
     "output_type": "stream",
     "text": [
      "0       0\n",
      "1       0\n",
      "2       0\n",
      "3       0\n",
      "4       0\n",
      "       ..\n",
      "2106    1\n",
      "2107    1\n",
      "2108    1\n",
      "2109    1\n",
      "2110    1\n",
      "Name: Obese, Length: 2111, dtype: int64\n"
     ]
    }
   ],
   "source": [
    "#for binary classification\n",
    "weight_map = { 'Normal_Weight':0, 'Overweight_Level_I':0,\n",
    "               'Overweight_Level_II':0, 'Obesity_Type_I':1,\n",
    "               'Obesity_Type_II':1, 'Obesity_Type_III':1, 'Insufficient_Weight':0}\n",
    "dataset['Obese'] = dataset_raw['NObeyesdad'].map(weight_map)\n",
    "sns.countplot(x=\"Obese\",                  \n",
    "                 palette=\"Blues_d\", \n",
    "                 order=dataset['Obese'].value_counts().index,                 \n",
    "                 data=dataset)\n",
    "# show figure & plots\n",
    "plt.tight_layout()\n",
    "plt.show()\n",
    "\n",
    "dataset[\"SCC\"] = le.fit_transform(dataset[\"SCC\"])\n",
    "dataset[\"SMOKE\"] = le.fit_transform(dataset[\"SMOKE\"])\n",
    "dataset[\"Gender\"] = le.fit_transform(dataset[\"Gender\"]) \n",
    "dataset[\"family_history_with_overweight\"] = le.fit_transform(dataset[\"family_history_with_overweight\"])\n",
    "dataset[\"FAVC\"] = le.fit_transform(dataset[\"FAVC\"])\n",
    "dataset[\"NObeyesdad\"] = le.fit_transform(dataset[\"NObeyesdad\"])\n",
    "dataset[\"CAEC\"] = le.fit_transform(dataset[\"CAEC\"])\n",
    "dataset[\"CALC\"] = le.fit_transform(dataset[\"CALC\"])\n",
    "dataset[\"MTRANS\"] = le.fit_transform(dataset[\"MTRANS\"])\n",
    "\n",
    "\n",
    "minVal = min(dataset[\"Age\"]);\n",
    "maxVal = max(dataset[\"Age\"]);\n",
    "\n",
    "dataset[\"Age\"] = (dataset[\"Age\"] - minVal) / ( maxVal - minVal )\n",
    "\n",
    "target = dataset['NObeyesdad']\n",
    "target_bin = dataset['Obese']\n",
    "\n",
    "print(target_bin)\n",
    "\n",
    "dataset = dataset.drop(['Height', 'Weight', 'NObeyesdad','Obese'], axis = 1)\n",
    "X_train, X_test, y_train, y_test = train_test_split(dataset,target, test_size=0.2,random_state=104)# 80% training and 20% test\n",
    "X_train_bin, X_test_bin, y_train_bin, y_test_bin = train_test_split(dataset,target_bin, test_size=0.2,random_state=104)# 80% training and 20% test\n",
    "\n",
    "# print(dataset)\n",
    "# print(dataset.mean())\n",
    "# print(dataset.std())\n",
    "# print(dataset.mode())\n",
    "# print(dataset.skew())\n"
   ]
  },
  {
   "cell_type": "code",
   "execution_count": 73,
   "metadata": {},
   "outputs": [
    {
     "name": "stdout",
     "output_type": "stream",
     "text": [
      "Accuracy RandomForest: 0.8794326241134752\n",
      "Confusion matrix:\n",
      " [[51  4  0  0  0  0  0]\n",
      " [ 2 46  1  0  0  1  1]\n",
      " [ 0  1 60  2  0  1  3]\n",
      " [ 0  2  1 63  0  0  3]\n",
      " [ 0  1  0  0 68  0  0]\n",
      " [ 0  5  4  2  0 46  2]\n",
      " [ 4  3  5  2  0  1 38]]\n"
     ]
    },
    {
     "data": {
      "image/png": "[encoded data removed]",
      "text/plain": [
       "<Figure size 720x360 with 1 Axes>"
      ]
     },
     "metadata": {
      "needs_background": "light"
     },
     "output_type": "display_data"
    }
   ],
   "source": [
    "rf.fit(X_train, y_train) \n",
    "\n",
    "y_pred = rf.predict(X_test)\n",
    "\n",
    "print(\"Accuracy RandomForest:\",accuracy_score(y_test, y_pred))\n",
    "print(\"Confusion matrix:\\n\", confusion_matrix(y_test, y_pred))\n",
    "\n",
    "feature_imp = pd.Series(rf.feature_importances_, index=dataset.columns).sort_values(ascending=False)\n",
    "fig = plt.figure(figsize=(10, 5))\n",
    "\n",
    "# Creating a bar plot\n",
    "sns.barplot(x=feature_imp.index, y=feature_imp)\n",
    "\n",
    "# Add labels to your graph\n",
    "plt.xticks(rotation=45, horizontalalignment='right')\n",
    "\n",
    "plt.tight_layout()\n",
    "plt.show()\n",
    "\n",
    "# # create features list\n",
    "# features_list = dataset.columns\n",
    "# features_list = features_list.tolist()\n",
    "\n",
    "# # Get numerical feature importances\n",
    "# importances = list(rf.feature_importances_)\n",
    "# # List of tuples with variable and importance\n",
    "# feature_importances = [(feature, round(importance, 2)) for feature, importance in zip(features_list, importances)]\n",
    "\n",
    "# # Sort the feature importances by most important first\n",
    "# feature_importances = sorted(feature_importances, key = lambda x: x[1], reverse = True)\n",
    "# # Print out the feature and importances \n",
    "# print(\"\\nTop 10 Features:\")\n",
    "# display_top = [print('Variable: {:20} Importance: {}'.format(*pair)) for pair in feature_importances[:10]]\n",
    "\n",
    "# # Sort the feature importances by least important first\n",
    "# feature_importances = sorted(feature_importances, key = lambda x: x[1], reverse = False)\n",
    "# # Print out the feature and importances \n",
    "# print(\"\\nBottom 10 Features:\")\n",
    "# display_bottom = [print('Variable: {:20} Importance: {}'.format(*pair)) for pair in feature_importances[:10]]"
   ]
  },
  {
   "cell_type": "code",
   "execution_count": 80,
   "metadata": {},
   "outputs": [
    {
     "name": "stdout",
     "output_type": "stream",
     "text": [
      "Accuracy RandomForest (binary): 0.9408983451536643\n",
      "Confusion matrix:\n",
      " [[205  13]\n",
      " [ 12 193]]\n"
     ]
    }
   ],
   "source": [
    "rf_bin.fit(X_train_bin, y_train_bin) \n",
    "\n",
    "y_pred_bin = rf_bin.predict(X_test_bin)\n",
    "\n",
    "print(\"Accuracy RandomForest (binary):\",accuracy_score(y_test_bin, y_pred_bin))\n",
    "print(\"Confusion matrix:\\n\", confusion_matrix(y_test_bin, y_pred_bin))\n"
   ]
  },
  {
   "cell_type": "code",
   "execution_count": 76,
   "metadata": {},
   "outputs": [
    {
     "name": "stdout",
     "output_type": "stream",
     "text": [
      "Accuracy gnb: 0.5933806146572104\n",
      "Confusion matrix:\n",
      " [[39  1  7  8  0  0  0]\n",
      " [31  7  6  2  0  3  2]\n",
      " [ 0  2 42 20  0  1  2]\n",
      " [ 0  1  0 67  0  0  1]\n",
      " [ 1  0  0  0 68  0  0]\n",
      " [ 2  5 19 16  0 17  0]\n",
      " [ 4  3 11 23  0  1 11]]\n"
     ]
    }
   ],
   "source": [
    "gnb.fit(X_train, y_train) \n",
    "\n",
    "y_pred = gnb.predict(X_test)\n",
    "\n",
    "print(\"Accuracy gnb:\",accuracy_score(y_test, y_pred))\n",
    "print(\"Confusion matrix:\\n\", confusion_matrix(y_test, y_pred))"
   ]
  },
  {
   "cell_type": "code",
   "execution_count": 79,
   "metadata": {},
   "outputs": [
    {
     "name": "stdout",
     "output_type": "stream",
     "text": [
      "Accuracy svm_ovo: 0.6903073286052009\n",
      "Confusion matrix:\n",
      " [[47  3  4  1  0  0  0]\n",
      " [15 20  3  1  1 10  1]\n",
      " [ 1  0 44 13  1  2  6]\n",
      " [ 0  2  2 63  0  0  2]\n",
      " [ 0  1  0  0 68  0  0]\n",
      " [ 2  7 17  9  0 24  0]\n",
      " [ 2  4  8 11  1  1 26]]\n"
     ]
    }
   ],
   "source": [
    "svm_ovo.fit(X_train, y_train)\n",
    "\n",
    "y_pred = svm_ovo.predict(X_test)\n",
    "\n",
    "print(\"Accuracy svm_ovo:\",metrics.accuracy_score(y_test, y_pred))\n",
    "print(\"Confusion matrix:\\n\", confusion_matrix(y_test, y_pred))"
   ]
  },
  {
   "cell_type": "code",
   "execution_count": null,
   "metadata": {},
   "outputs": [],
   "source": [
    "svm_ovr.fit(X_train, y_train)\n",
    "\n",
    "y_pred = svm_ovr.predict(X_test)\n",
    "\n",
    "print(\"Accuracy svm_ovr:\",metrics.accuracy_score(y_test, y_pred))\n",
    "print(\"Confusion matrix:\\n\", confusion_matrix(y_test, y_pred))"
   ]
  },
  {
   "cell_type": "code",
   "execution_count": null,
   "metadata": {},
   "outputs": [],
   "source": [
    "svm_lin.fit(X_train, y_train)\n",
    "\n",
    "y_pred = svm_lin.predict(X_test)\n",
    "\n",
    "print(\"Accuracy svm_lin:\",metrics.accuracy_score(y_test, y_pred))\n",
    "print(\"Confusion matrix:\\n\", confusion_matrix(y_test, y_pred))"
   ]
  },
  {
   "cell_type": "code",
   "execution_count": null,
   "metadata": {},
   "outputs": [],
   "source": [
    "nc.fit(X_train, y_train)\n",
    "\n",
    "y_pred = nc.predict(X_test)\n",
    "\n",
    "print(\"Accuracy nc:\",metrics.accuracy_score(y_test, y_pred))\n",
    "print(\"Confusion matrix:\\n\", confusion_matrix(y_test, y_pred))"
   ]
  },
  {
   "cell_type": "code",
   "execution_count": null,
   "metadata": {},
   "outputs": [],
   "source": [
    "dt.fit(X_train, y_train)\n",
    "\n",
    "y_pred = dt.predict(X_test)\n",
    "print(\"Accuracy dt:\",metrics.accuracy_score(y_test, y_pred))\n",
    "print(\"Confusion matrix:\\n\", confusion_matrix(y_test, y_pred))"
   ]
  },
  {
   "cell_type": "code",
   "execution_count": null,
   "metadata": {},
   "outputs": [],
   "source": [
    "lr.fit(X_train, y_train)\n",
    "\n",
    "y_pred = lr.predict(X_test)\n",
    "print(\"Accuracy dt:\",metrics.accuracy_score(y_test, y_pred))\n",
    "print(\"Confusion matrix:\\n\", confusion_matrix(y_test, y_pred))"
   ]
  }
 ],
 "metadata": {
  "kernelspec": {
   "display_name": "Python 3",
   "language": "python",
   "name": "python3"
  },
  "language_info": {
   "codemirror_mode": {
    "name": "ipython",
    "version": 3
   },
   "file_extension": ".py",
   "mimetype": "text/x-python",
   "name": "python",
   "nbconvert_exporter": "python",
   "pygments_lexer": "ipython3",
   "version": "3.6.9"
  }
 },
 "nbformat": 4,
 "nbformat_minor": 4
}
